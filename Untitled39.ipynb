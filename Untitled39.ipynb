{
  "nbformat": 4,
  "nbformat_minor": 0,
  "metadata": {
    "colab": {
      "name": "Untitled39.ipynb",
      "provenance": [],
      "authorship_tag": "ABX9TyPyPKL3ivigSeH3XQ1FwH+h",
      "include_colab_link": true
    },
    "kernelspec": {
      "name": "python3",
      "display_name": "Python 3"
    }
  },
  "cells": [
    {
      "cell_type": "markdown",
      "metadata": {
        "id": "view-in-github",
        "colab_type": "text"
      },
      "source": [
        "<a href=\"https://colab.research.google.com/github/JefferiesJiang/SecondAIporject/blob/master/Untitled39.ipynb\" target=\"_parent\"><img src=\"https://colab.research.google.com/assets/colab-badge.svg\" alt=\"Open In Colab\"/></a>"
      ]
    },
    {
      "cell_type": "code",
      "metadata": {
        "id": "_0-vvmpZs1FA",
        "colab_type": "code",
        "colab": {
          "base_uri": "https://localhost:8080/",
          "height": 122
        },
        "outputId": "6e58984a-df11-47db-ffbb-db605f11cd0d"
      },
      "source": [
        "class Celltype:\n",
        "  def __init__(self,ribosome_level,size,reproducction_level):\n",
        "    self.ribosome_level = ribosome_level\n",
        "    self.size = size\n",
        "    self.reproducction_level = reproducction_level \n",
        "  def createcncer(self):\n",
        "    self.reproducction_level = \"very very \" + self.reproducction_level\n",
        "whitebloodcell = Celltype(\"high\",\"big\",\"low\")\n",
        "\n",
        "whitebloodcell.ribosome_level\n",
        "whitebloodcell.reproducction_level\n",
        "\n",
        "redbloodcell = Celltype(\"good\",\"very small\",\"high\")\n",
        "\n",
        "redbloodcell.createcncer()\n",
        "\n",
        "redbloodcell.reproducction_level\n",
        "\n",
        "\n",
        "name = input(\"what is your new cell name?\")\n",
        "ribosomes = input(\"what is your cell's ribosome level\")\n",
        "sizeofcell = input(\"what is your sizw of your cell?\")\n",
        "reproducction_levels = input(\"what is your cells reproduction level\")\n",
        "\n",
        "mm = name\n",
        "\n",
        "\n",
        "\n",
        "name = Celltype(ribosomes,sizeofcell,reproducction_levels)\n",
        "print(\"your cell anme is \"+  mm + \"your cell has a \" +  name.ribosome_level + \"level of ribosome\"+ \"your cell has a size of\" + name.size + \"and your cell has a \" + name.reproducction_level + \"reproduction level\"\n",
        ")\n",
        "\n",
        "\n",
        "\n",
        "\n",
        "\n"
      ],
      "execution_count": 24,
      "outputs": [
        {
          "output_type": "stream",
          "text": [
            "what is your new cell name?turkey sperm\n",
            "what is your cell's ribosome levelhigh\n",
            "what is your sizw of your cell?large\n",
            "what is your cells reproduction levelhigh\n",
            "your cell anme is turkey spermyour cell has a highlevel of ribosomeyour cell has a size oflargeand your cell has a highreproduction level\n"
          ],
          "name": "stdout"
        }
      ]
    }
  ]
}